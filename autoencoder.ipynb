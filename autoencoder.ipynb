{
 "cells": [
  {
   "cell_type": "code",
   "execution_count": 1,
   "id": "49c3dd27-11a2-4284-a31d-bbb3186a4987",
   "metadata": {},
   "outputs": [
    {
     "name": "stderr",
     "output_type": "stream",
     "text": [
      "2021-11-04 19:08:29.539180: W tensorflow/stream_executor/platform/default/dso_loader.cc:64] Could not load dynamic library 'libcudart.so.11.0'; dlerror: libcudart.so.11.0: cannot open shared object file: No such file or directory; LD_LIBRARY_PATH: /home/sdysch/Documents/rootInstall/root/lib\n",
      "2021-11-04 19:08:29.539197: I tensorflow/stream_executor/cuda/cudart_stub.cc:29] Ignore above cudart dlerror if you do not have a GPU set up on your machine.\n"
     ]
    }
   ],
   "source": [
    "# Import all the stuff we will need\n",
    "import numpy as np\n",
    "from matplotlib import pyplot as plt\n",
    "import pandas as pd\n",
    "from tensorflow.keras.models import Sequential\n",
    "from tensorflow.keras.layers import Dense\n",
    "\n",
    "from numpy.random import seed\n",
    "seed(1)"
   ]
  },
  {
   "cell_type": "code",
   "execution_count": 2,
   "id": "500c94a5-8940-4a2e-8716-efa3c9c2913e",
   "metadata": {},
   "outputs": [],
   "source": [
    "# generate some data, add to df\n",
    "n = 10000\n",
    "\n",
    "var_1 = -1 * np.log(np.random.rand(n))\n",
    "var_2 = -2 * np.log(np.random.rand(n))\n",
    "var_3 = -3 * np.log(np.random.rand(n))\n",
    "var_4 = -4 * np.log(np.random.rand(n))\n",
    "\n",
    "# scale to mean 0, std 1\n",
    "var_1 = ( var_1 - np.mean(var_1) ) / np.std(var_1)\n",
    "var_2 = ( var_2 - np.mean(var_2) ) / np.std(var_2)\n",
    "var_3 = ( var_3 - np.mean(var_3) ) / np.std(var_3)\n",
    "var_4 = ( var_4 - np.mean(var_4) ) / np.std(var_4)\n",
    "\n",
    "data = pd.DataFrame({\"x1\" : var_1,\n",
    "                     \"x2\" : var_2,\n",
    "                     \"x3\" : var_3,\n",
    "                     \"x4\" : var_4\n",
    "                    })\n",
    "#data"
   ]
  },
  {
   "cell_type": "code",
   "execution_count": 3,
   "id": "2917d903-b48e-4326-a8e6-ac1b57810157",
   "metadata": {},
   "outputs": [
    {
     "data": {
      "image/png": "[encoded data removed]",
      "text/plain": [
       "<Figure size 504x504 with 4 Axes>"
      ]
     },
     "metadata": {
      "needs_background": "light"
     },
     "output_type": "display_data"
    }
   ],
   "source": [
    "# draw vars\n",
    "fig, axs = plt.subplots(2, 2, figsize = (7, 7))\n",
    "bins = 50\n",
    "_ = axs[0, 0].hist(data.x1, bins = bins)\n",
    "_ = axs[0, 1].hist(data.x2, bins = bins)\n",
    "_ = axs[1, 0].hist(data.x3, bins = bins)\n",
    "_ = axs[1, 1].hist(data.x4, bins = bins)"
   ]
  },
  {
   "cell_type": "code",
   "execution_count": 4,
   "id": "8ac8e42e-2e2e-4b77-9d84-98d0eaf57913",
   "metadata": {},
   "outputs": [],
   "source": [
    "# split into training and testing data, 70% fraction\n",
    "# will split test into validation during model training\n",
    "split = int(0.7 * len(data))\n",
    "train = data[0:split].values\n",
    "test  = data[split:].values"
   ]
  },
  {
   "cell_type": "code",
   "execution_count": 5,
   "id": "baed8a77-18e0-45e4-8464-cca648ac7df1",
   "metadata": {},
   "outputs": [
    {
     "name": "stdout",
     "output_type": "stream",
     "text": [
      "Model: \"sequential\"\n",
      "_________________________________________________________________\n",
      "Layer (type)                 Output Shape              Param #   \n",
      "=================================================================\n",
      "dense (Dense)                (None, 4)                 20        \n",
      "_________________________________________________________________\n",
      "dense_1 (Dense)              (None, 3)                 15        \n",
      "_________________________________________________________________\n",
      "dense_2 (Dense)              (None, 2)                 8         \n",
      "_________________________________________________________________\n",
      "dense_3 (Dense)              (None, 3)                 9         \n",
      "_________________________________________________________________\n",
      "dense_4 (Dense)              (None, 4)                 16        \n",
      "=================================================================\n",
      "Total params: 68\n",
      "Trainable params: 68\n",
      "Non-trainable params: 0\n",
      "_________________________________________________________________\n"
     ]
    },
    {
     "name": "stderr",
     "output_type": "stream",
     "text": [
      "2021-11-04 19:08:31.292381: W tensorflow/stream_executor/platform/default/dso_loader.cc:64] Could not load dynamic library 'libcuda.so.1'; dlerror: libcuda.so.1: cannot open shared object file: No such file or directory; LD_LIBRARY_PATH: /home/sdysch/Documents/rootInstall/root/lib\n",
      "2021-11-04 19:08:31.292416: W tensorflow/stream_executor/cuda/cuda_driver.cc:326] failed call to cuInit: UNKNOWN ERROR (303)\n",
      "2021-11-04 19:08:31.292438: I tensorflow/stream_executor/cuda/cuda_diagnostics.cc:156] kernel driver does not appear to be running on this host (sdysch-Lenovo-IdeaPad-S540-15IML): /proc/driver/nvidia/version does not exist\n",
      "2021-11-04 19:08:31.292684: I tensorflow/core/platform/cpu_feature_guard.cc:142] This TensorFlow binary is optimized with oneAPI Deep Neural Network Library (oneDNN) to use the following CPU instructions in performance-critical operations:  AVX2 FMA\n",
      "To enable them in other operations, rebuild TensorFlow with the appropriate compiler flags.\n"
     ]
    }
   ],
   "source": [
    "# setup autoencoder, we will use a NN with 4 - 3 - 2 - 3 - 4 to encode and decode our data\n",
    "model = Sequential()\n",
    "model.add(Dense(4, activation='relu', input_shape=(4,)))\n",
    "model.add(Dense(3, activation='relu'))\n",
    "model.add(Dense(2, activation='relu'))\n",
    "model.add(Dense(3, activation='relu'))\n",
    "model.add(Dense(4, activation='linear'))\n",
    "\n",
    "model.summary()\n",
    "\n",
    "learning_rate = 0.001 * 2\n",
    "from tensorflow.keras.optimizers import Adam\n",
    "optimizer = Adam(learning_rate)\n",
    "model.compile(loss=\"mse\", optimizer=optimizer, metrics=[\"mse\"])"
   ]
  },
  {
   "cell_type": "code",
   "execution_count": 6,
   "id": "67ed92fc-2d1f-4b36-9707-2300848b7a70",
   "metadata": {},
   "outputs": [
    {
     "name": "stderr",
     "output_type": "stream",
     "text": [
      "2021-11-04 19:08:31.388881: I tensorflow/compiler/mlir/mlir_graph_optimization_pass.cc:176] None of the MLIR Optimization Passes are enabled (registered 2)\n",
      "2021-11-04 19:08:31.406851: I tensorflow/core/platform/profile_utils/cpu_utils.cc:114] CPU Frequency: 2099940000 Hz\n"
     ]
    },
    {
     "name": "stdout",
     "output_type": "stream",
     "text": [
      "Epoch 1/300\n",
      "490/490 [==============================] - 1s 869us/step - loss: 0.6985 - mse: 0.6985 - val_loss: 0.5597 - val_mse: 0.5597\n",
      "Epoch 2/300\n",
      "490/490 [==============================] - 0s 694us/step - loss: 0.4748 - mse: 0.4748 - val_loss: 0.4312 - val_mse: 0.4312\n",
      "Epoch 3/300\n",
      "490/490 [==============================] - 0s 679us/step - loss: 0.3823 - mse: 0.3823 - val_loss: 0.3826 - val_mse: 0.3826\n",
      "Epoch 4/300\n",
      "490/490 [==============================] - 0s 679us/step - loss: 0.3530 - mse: 0.3530 - val_loss: 0.3698 - val_mse: 0.3698\n",
      "Epoch 5/300\n",
      "490/490 [==============================] - 0s 682us/step - loss: 0.3447 - mse: 0.3447 - val_loss: 0.3659 - val_mse: 0.3659\n",
      "Epoch 6/300\n",
      "490/490 [==============================] - 0s 690us/step - loss: 0.3418 - mse: 0.3418 - val_loss: 0.3660 - val_mse: 0.3660\n",
      "Epoch 7/300\n",
      "490/490 [==============================] - 0s 682us/step - loss: 0.3398 - mse: 0.3398 - val_loss: 0.3653 - val_mse: 0.3653\n",
      "Epoch 8/300\n",
      "490/490 [==============================] - 0s 678us/step - loss: 0.3392 - mse: 0.3392 - val_loss: 0.3640 - val_mse: 0.3640\n",
      "Epoch 9/300\n",
      "490/490 [==============================] - 0s 678us/step - loss: 0.3384 - mse: 0.3384 - val_loss: 0.3641 - val_mse: 0.3641\n",
      "Epoch 10/300\n",
      "490/490 [==============================] - 0s 678us/step - loss: 0.3370 - mse: 0.3370 - val_loss: 0.3645 - val_mse: 0.3645\n",
      "Epoch 11/300\n",
      "490/490 [==============================] - 0s 747us/step - loss: 0.3374 - mse: 0.3374 - val_loss: 0.3641 - val_mse: 0.3641\n",
      "Epoch 12/300\n",
      "490/490 [==============================] - 0s 832us/step - loss: 0.3369 - mse: 0.3369 - val_loss: 0.3642 - val_mse: 0.3642\n",
      "Epoch 13/300\n",
      "490/490 [==============================] - 0s 709us/step - loss: 0.3356 - mse: 0.3356 - val_loss: 0.3641 - val_mse: 0.3641\n",
      "Epoch 14/300\n",
      "490/490 [==============================] - 0s 819us/step - loss: 0.3323 - mse: 0.3323 - val_loss: 0.3556 - val_mse: 0.3556\n",
      "Epoch 15/300\n",
      "490/490 [==============================] - 0s 685us/step - loss: 0.3232 - mse: 0.3232 - val_loss: 0.3477 - val_mse: 0.3477\n",
      "Epoch 16/300\n",
      "490/490 [==============================] - 0s 705us/step - loss: 0.3180 - mse: 0.3180 - val_loss: 0.3444 - val_mse: 0.3444\n",
      "Epoch 17/300\n",
      "490/490 [==============================] - 0s 802us/step - loss: 0.3143 - mse: 0.3143 - val_loss: 0.3409 - val_mse: 0.3409\n",
      "Epoch 18/300\n",
      "490/490 [==============================] - 0s 762us/step - loss: 0.3130 - mse: 0.3130 - val_loss: 0.3415 - val_mse: 0.3415\n",
      "Epoch 19/300\n",
      "490/490 [==============================] - 0s 680us/step - loss: 0.3104 - mse: 0.3104 - val_loss: 0.3389 - val_mse: 0.3389\n",
      "Epoch 20/300\n",
      "490/490 [==============================] - 0s 780us/step - loss: 0.3082 - mse: 0.3082 - val_loss: 0.3391 - val_mse: 0.3391\n",
      "Epoch 21/300\n",
      "490/490 [==============================] - 0s 735us/step - loss: 0.3080 - mse: 0.3080 - val_loss: 0.3372 - val_mse: 0.3372\n",
      "Epoch 22/300\n",
      "490/490 [==============================] - 0s 711us/step - loss: 0.3065 - mse: 0.3065 - val_loss: 0.3429 - val_mse: 0.3429\n",
      "Epoch 23/300\n",
      "490/490 [==============================] - 0s 687us/step - loss: 0.3069 - mse: 0.3069 - val_loss: 0.3449 - val_mse: 0.3449\n",
      "Epoch 24/300\n",
      "490/490 [==============================] - 0s 643us/step - loss: 0.3055 - mse: 0.3055 - val_loss: 0.3375 - val_mse: 0.3375\n",
      "Epoch 25/300\n",
      "490/490 [==============================] - 0s 642us/step - loss: 0.3050 - mse: 0.3050 - val_loss: 0.3367 - val_mse: 0.3367\n",
      "Epoch 26/300\n",
      "490/490 [==============================] - 0s 709us/step - loss: 0.3037 - mse: 0.3037 - val_loss: 0.3384 - val_mse: 0.3384\n",
      "Epoch 27/300\n",
      "490/490 [==============================] - 0s 707us/step - loss: 0.3037 - mse: 0.3037 - val_loss: 0.3366 - val_mse: 0.3366\n",
      "Epoch 28/300\n",
      "490/490 [==============================] - 0s 828us/step - loss: 0.3033 - mse: 0.3033 - val_loss: 0.3355 - val_mse: 0.3355\n",
      "Epoch 29/300\n",
      "490/490 [==============================] - 0s 687us/step - loss: 0.3023 - mse: 0.3023 - val_loss: 0.3343 - val_mse: 0.3343\n",
      "Epoch 30/300\n",
      "490/490 [==============================] - 0s 776us/step - loss: 0.3019 - mse: 0.3019 - val_loss: 0.3344 - val_mse: 0.3344\n",
      "Epoch 31/300\n",
      "490/490 [==============================] - 0s 822us/step - loss: 0.3022 - mse: 0.3022 - val_loss: 0.3337 - val_mse: 0.3337\n",
      "Epoch 32/300\n",
      "490/490 [==============================] - 0s 755us/step - loss: 0.3012 - mse: 0.3012 - val_loss: 0.3428 - val_mse: 0.3428\n",
      "Epoch 33/300\n",
      "490/490 [==============================] - 0s 788us/step - loss: 0.3012 - mse: 0.3012 - val_loss: 0.3416 - val_mse: 0.3416\n",
      "Epoch 34/300\n",
      "490/490 [==============================] - 0s 777us/step - loss: 0.2999 - mse: 0.2999 - val_loss: 0.3345 - val_mse: 0.3345\n",
      "Epoch 35/300\n",
      "490/490 [==============================] - 0s 754us/step - loss: 0.3006 - mse: 0.3006 - val_loss: 0.3330 - val_mse: 0.3330\n",
      "Epoch 36/300\n",
      "490/490 [==============================] - 1s 1ms/step - loss: 0.2994 - mse: 0.2994 - val_loss: 0.3333 - val_mse: 0.3333\n",
      "Epoch 37/300\n",
      "490/490 [==============================] - 0s 905us/step - loss: 0.3007 - mse: 0.3007 - val_loss: 0.3337 - val_mse: 0.3337\n",
      "Epoch 38/300\n",
      "490/490 [==============================] - 0s 854us/step - loss: 0.2992 - mse: 0.2992 - val_loss: 0.3332 - val_mse: 0.3332\n",
      "Epoch 39/300\n",
      "490/490 [==============================] - 0s 928us/step - loss: 0.2996 - mse: 0.2996 - val_loss: 0.3333 - val_mse: 0.3333\n",
      "Epoch 40/300\n",
      "490/490 [==============================] - 1s 1ms/step - loss: 0.2985 - mse: 0.2985 - val_loss: 0.3348 - val_mse: 0.3348\n",
      "Epoch 41/300\n",
      "490/490 [==============================] - 0s 955us/step - loss: 0.2987 - mse: 0.2987 - val_loss: 0.3320 - val_mse: 0.3320\n",
      "Epoch 42/300\n",
      "490/490 [==============================] - 0s 975us/step - loss: 0.2983 - mse: 0.2983 - val_loss: 0.3361 - val_mse: 0.3361\n",
      "Epoch 43/300\n",
      "490/490 [==============================] - 0s 715us/step - loss: 0.2982 - mse: 0.2982 - val_loss: 0.3345 - val_mse: 0.3345\n",
      "Epoch 44/300\n",
      "490/490 [==============================] - 0s 848us/step - loss: 0.2981 - mse: 0.2981 - val_loss: 0.3319 - val_mse: 0.3319\n",
      "Epoch 45/300\n",
      "490/490 [==============================] - 0s 867us/step - loss: 0.2982 - mse: 0.2982 - val_loss: 0.3320 - val_mse: 0.3320\n",
      "Epoch 46/300\n",
      "490/490 [==============================] - 0s 851us/step - loss: 0.2978 - mse: 0.2978 - val_loss: 0.3377 - val_mse: 0.3377\n",
      "Epoch 47/300\n",
      "490/490 [==============================] - 0s 966us/step - loss: 0.2996 - mse: 0.2996 - val_loss: 0.3307 - val_mse: 0.3307\n",
      "Epoch 48/300\n",
      "490/490 [==============================] - 0s 967us/step - loss: 0.2978 - mse: 0.2978 - val_loss: 0.3303 - val_mse: 0.3303\n",
      "Epoch 49/300\n",
      "490/490 [==============================] - 0s 777us/step - loss: 0.2971 - mse: 0.2971 - val_loss: 0.3307 - val_mse: 0.3307\n",
      "Epoch 50/300\n",
      "490/490 [==============================] - 0s 696us/step - loss: 0.2975 - mse: 0.2975 - val_loss: 0.3340 - val_mse: 0.3340\n",
      "Epoch 51/300\n",
      "490/490 [==============================] - 0s 834us/step - loss: 0.2974 - mse: 0.2974 - val_loss: 0.3302 - val_mse: 0.3302\n",
      "Epoch 52/300\n",
      "490/490 [==============================] - 0s 784us/step - loss: 0.2968 - mse: 0.2968 - val_loss: 0.3302 - val_mse: 0.3302\n",
      "Epoch 53/300\n",
      "490/490 [==============================] - 0s 698us/step - loss: 0.2971 - mse: 0.2971 - val_loss: 0.3302 - val_mse: 0.3302\n",
      "Epoch 54/300\n",
      "490/490 [==============================] - 0s 673us/step - loss: 0.2985 - mse: 0.2985 - val_loss: 0.3290 - val_mse: 0.3290\n",
      "Epoch 55/300\n",
      "490/490 [==============================] - 0s 687us/step - loss: 0.2970 - mse: 0.2970 - val_loss: 0.3311 - val_mse: 0.3311\n",
      "Epoch 56/300\n",
      "490/490 [==============================] - 0s 678us/step - loss: 0.2966 - mse: 0.2966 - val_loss: 0.3308 - val_mse: 0.3308\n",
      "Epoch 57/300\n",
      "490/490 [==============================] - 0s 670us/step - loss: 0.2962 - mse: 0.2962 - val_loss: 0.3289 - val_mse: 0.3289\n",
      "Epoch 58/300\n",
      "490/490 [==============================] - 0s 683us/step - loss: 0.2973 - mse: 0.2973 - val_loss: 0.3289 - val_mse: 0.3289\n",
      "Epoch 59/300\n",
      "490/490 [==============================] - 0s 677us/step - loss: 0.2960 - mse: 0.2960 - val_loss: 0.3306 - val_mse: 0.3306\n",
      "Epoch 60/300\n",
      "490/490 [==============================] - 0s 684us/step - loss: 0.2961 - mse: 0.2961 - val_loss: 0.3296 - val_mse: 0.3296\n",
      "Epoch 61/300\n",
      "490/490 [==============================] - 0s 676us/step - loss: 0.2973 - mse: 0.2973 - val_loss: 0.3294 - val_mse: 0.3294\n",
      "Epoch 62/300\n",
      "490/490 [==============================] - 0s 663us/step - loss: 0.2956 - mse: 0.2956 - val_loss: 0.3305 - val_mse: 0.3305\n",
      "Epoch 63/300\n",
      "490/490 [==============================] - 0s 675us/step - loss: 0.2962 - mse: 0.2962 - val_loss: 0.3336 - val_mse: 0.3336\n",
      "Epoch 64/300\n",
      "490/490 [==============================] - 0s 678us/step - loss: 0.2959 - mse: 0.2959 - val_loss: 0.3289 - val_mse: 0.3289\n",
      "Epoch 65/300\n",
      "490/490 [==============================] - 0s 666us/step - loss: 0.2964 - mse: 0.2964 - val_loss: 0.3287 - val_mse: 0.3287\n",
      "Epoch 66/300\n",
      "490/490 [==============================] - 0s 665us/step - loss: 0.2962 - mse: 0.2962 - val_loss: 0.3288 - val_mse: 0.3288\n",
      "Epoch 67/300\n",
      "490/490 [==============================] - 0s 668us/step - loss: 0.2967 - mse: 0.2967 - val_loss: 0.3285 - val_mse: 0.3285\n",
      "Epoch 68/300\n",
      "490/490 [==============================] - 0s 676us/step - loss: 0.2954 - mse: 0.2954 - val_loss: 0.3309 - val_mse: 0.3309\n",
      "Epoch 69/300\n",
      "490/490 [==============================] - 0s 663us/step - loss: 0.2960 - mse: 0.2960 - val_loss: 0.3289 - val_mse: 0.3289\n",
      "Epoch 70/300\n",
      "490/490 [==============================] - 0s 679us/step - loss: 0.2962 - mse: 0.2962 - val_loss: 0.3288 - val_mse: 0.3288\n",
      "Epoch 71/300\n",
      "490/490 [==============================] - 0s 674us/step - loss: 0.2970 - mse: 0.2970 - val_loss: 0.3283 - val_mse: 0.3283\n",
      "Epoch 72/300\n",
      "490/490 [==============================] - 0s 670us/step - loss: 0.2953 - mse: 0.2953 - val_loss: 0.3271 - val_mse: 0.3271\n",
      "Epoch 73/300\n",
      "490/490 [==============================] - 0s 673us/step - loss: 0.2978 - mse: 0.2978 - val_loss: 0.3288 - val_mse: 0.3288\n",
      "Epoch 74/300\n",
      "490/490 [==============================] - 0s 682us/step - loss: 0.2950 - mse: 0.2950 - val_loss: 0.3314 - val_mse: 0.3314\n",
      "Epoch 75/300\n",
      "490/490 [==============================] - 0s 703us/step - loss: 0.2955 - mse: 0.2955 - val_loss: 0.3289 - val_mse: 0.3289\n",
      "Epoch 76/300\n",
      "490/490 [==============================] - 0s 684us/step - loss: 0.2951 - mse: 0.2951 - val_loss: 0.3282 - val_mse: 0.3282\n",
      "Epoch 77/300\n",
      "490/490 [==============================] - 0s 670us/step - loss: 0.2955 - mse: 0.2955 - val_loss: 0.3288 - val_mse: 0.3288\n",
      "Epoch 78/300\n",
      "490/490 [==============================] - 0s 678us/step - loss: 0.2964 - mse: 0.2964 - val_loss: 0.3588 - val_mse: 0.3588\n",
      "Epoch 79/300\n",
      "490/490 [==============================] - 0s 667us/step - loss: 0.2965 - mse: 0.2965 - val_loss: 0.3269 - val_mse: 0.3269\n",
      "Epoch 80/300\n",
      "490/490 [==============================] - 0s 677us/step - loss: 0.2951 - mse: 0.2951 - val_loss: 0.3281 - val_mse: 0.3281\n",
      "Epoch 81/300\n",
      "490/490 [==============================] - 0s 663us/step - loss: 0.2949 - mse: 0.2949 - val_loss: 0.3313 - val_mse: 0.3313\n",
      "Epoch 82/300\n",
      "490/490 [==============================] - 0s 680us/step - loss: 0.2955 - mse: 0.2955 - val_loss: 0.3273 - val_mse: 0.3273\n",
      "Epoch 83/300\n",
      "490/490 [==============================] - 0s 676us/step - loss: 0.2966 - mse: 0.2966 - val_loss: 0.3273 - val_mse: 0.3273\n",
      "Epoch 84/300\n",
      "490/490 [==============================] - 0s 667us/step - loss: 0.2952 - mse: 0.2952 - val_loss: 0.3281 - val_mse: 0.3281\n",
      "Epoch 85/300\n",
      "490/490 [==============================] - 0s 688us/step - loss: 0.2969 - mse: 0.2969 - val_loss: 0.3259 - val_mse: 0.3259\n",
      "Epoch 86/300\n",
      "490/490 [==============================] - 0s 663us/step - loss: 0.2957 - mse: 0.2957 - val_loss: 0.3275 - val_mse: 0.3275\n",
      "Epoch 87/300\n",
      "490/490 [==============================] - 0s 664us/step - loss: 0.2950 - mse: 0.2950 - val_loss: 0.3256 - val_mse: 0.3256\n",
      "Epoch 88/300\n",
      "490/490 [==============================] - 0s 668us/step - loss: 0.2953 - mse: 0.2953 - val_loss: 0.3268 - val_mse: 0.3268\n",
      "Epoch 89/300\n",
      "490/490 [==============================] - 0s 671us/step - loss: 0.2980 - mse: 0.2980 - val_loss: 0.3280 - val_mse: 0.3280\n",
      "Epoch 90/300\n",
      "490/490 [==============================] - 0s 716us/step - loss: 0.2947 - mse: 0.2947 - val_loss: 0.3262 - val_mse: 0.3262\n",
      "Epoch 91/300\n",
      "490/490 [==============================] - 0s 690us/step - loss: 0.2958 - mse: 0.2958 - val_loss: 0.3264 - val_mse: 0.3264\n",
      "Epoch 92/300\n",
      "490/490 [==============================] - 0s 664us/step - loss: 0.2960 - mse: 0.2960 - val_loss: 0.3264 - val_mse: 0.3264\n",
      "Epoch 93/300\n",
      "490/490 [==============================] - 0s 674us/step - loss: 0.2965 - mse: 0.2965 - val_loss: 0.3293 - val_mse: 0.3293\n",
      "Epoch 94/300\n",
      "490/490 [==============================] - 0s 669us/step - loss: 0.2953 - mse: 0.2953 - val_loss: 0.3263 - val_mse: 0.3263\n",
      "Epoch 95/300\n",
      "490/490 [==============================] - 0s 691us/step - loss: 0.2951 - mse: 0.2951 - val_loss: 0.3263 - val_mse: 0.3263\n",
      "Epoch 96/300\n",
      "490/490 [==============================] - 0s 723us/step - loss: 0.2943 - mse: 0.2943 - val_loss: 0.3263 - val_mse: 0.3263\n",
      "Epoch 97/300\n",
      "490/490 [==============================] - 0s 706us/step - loss: 0.2946 - mse: 0.2946 - val_loss: 0.3271 - val_mse: 0.3271\n",
      "Epoch 00097: early stopping\n"
     ]
    }
   ],
   "source": [
    "epochs = 300\n",
    "\n",
    "from tensorflow.keras.callbacks import EarlyStopping\n",
    "es = EarlyStopping(monitor='val_loss', mode='min', verbose=1, patience=10)\n",
    "history = model.fit(x=train, y=train, batch_size=10, epochs=epochs, validation_split=0.3, callbacks=[es])"
   ]
  },
  {
   "cell_type": "code",
   "execution_count": 7,
   "id": "1b8abe1c-dc2b-4ca0-90c2-909a96994e1e",
   "metadata": {},
   "outputs": [
    {
     "data": {
      "image/png": "[encoded data removed]",
      "text/plain": [
       "<Figure size 432x288 with 1 Axes>"
      ]
     },
     "metadata": {
      "needs_background": "light"
     },
     "output_type": "display_data"
    }
   ],
   "source": [
    "# learning curve\n",
    "plt.plot(history.history['loss'])\n",
    "plt.plot(history.history['val_loss'])\n",
    "plt.title('model loss')\n",
    "plt.ylabel('loss')\n",
    "plt.xlabel('epoch')\n",
    "plt.legend(['train', 'validation'], loc='upper left')\n",
    "#plt.gca().set_yscale(\"log\")\n",
    "plt.show()"
   ]
  },
  {
   "cell_type": "code",
   "execution_count": 8,
   "id": "07b09497-3663-4d0e-8727-3799b64b3c56",
   "metadata": {},
   "outputs": [
    {
     "data": {
      "text/plain": [
       "<matplotlib.legend.Legend at 0x7fd70805ba60>"
      ]
     },
     "execution_count": 8,
     "metadata": {},
     "output_type": "execute_result"
    },
    {
     "data": {
      "image/png": "[encoded data removed]",
      "text/plain": [
       "<Figure size 504x504 with 4 Axes>"
      ]
     },
     "metadata": {
      "needs_background": "light"
     },
     "output_type": "display_data"
    }
   ],
   "source": [
    "# predictions\n",
    "pred = model.predict(test)\n",
    "\n",
    "# draw vars\n",
    "nbins = 50\n",
    "fig, axs = plt.subplots(2, 2, figsize = (7, 7))\n",
    "_ = axs[0, 0].hist(test[:,0], bins = nbins, alpha = 0.4, label = \"actual\")\n",
    "_ = axs[0, 0].hist(pred[:,0], bins = nbins, alpha = 0.4, label = \"prediction\")\n",
    "axs[0, 0].legend()\n",
    "\n",
    "_ = axs[0, 1].hist(test[:,1], bins = nbins, alpha = 0.4, label = \"actual\")\n",
    "_ = axs[0, 1].hist(pred[:,1], bins = nbins, alpha = 0.4, label = \"prediction\")\n",
    "axs[0, 1].legend()\n",
    "\n",
    "_ = axs[1, 0].hist(test[:,2], bins = nbins, alpha = 0.4, label = \"actual\")\n",
    "_ = axs[1, 0].hist(pred[:,2], bins = nbins, alpha = 0.4, label = \"prediction\")\n",
    "axs[1, 0].legend()\n",
    "\n",
    "_ = axs[1, 1].hist(test[:,3], bins = nbins, alpha = 0.4, label = \"actual\")\n",
    "_ = axs[1, 1].hist(pred[:,3], bins = nbins, alpha = 0.4, label = \"prediction\")\n",
    "axs[1, 1].legend()"
   ]
  },
  {
   "cell_type": "code",
   "execution_count": 9,
   "id": "d68eb761-3e31-4ae2-baf3-f788afd71172",
   "metadata": {},
   "outputs": [
    {
     "data": {
      "text/plain": [
       "array([ 0.72675631, -0.65983973, -0.98984676, -1.00220301])"
      ]
     },
     "execution_count": 9,
     "metadata": {},
     "output_type": "execute_result"
    }
   ],
   "source": [
    "# Let's add in an anomalous data point\n",
    "anomaly = test\n",
    "anomaly[0]"
   ]
  },
  {
   "cell_type": "code",
   "execution_count": 10,
   "id": "c8344f93-ebe2-4888-8d39-70a552764a58",
   "metadata": {},
   "outputs": [
    {
     "data": {
      "text/plain": [
       "array([-0.03600638, -0.12637674,  0.03727298, -0.0026977 ])"
      ]
     },
     "execution_count": 10,
     "metadata": {},
     "output_type": "execute_result"
    }
   ],
   "source": [
    "# arbitrary\n",
    "scale = 10.\n",
    "anomaly[0, 0] = anomaly[:, 0].mean() * scale\n",
    "anomaly[0, 1] = anomaly[:, 1].mean() * scale\n",
    "anomaly[0, 2] = anomaly[:, 2].mean() * scale\n",
    "anomaly[0, 3] = anomaly[:, 3].mean() * scale\n",
    "anomaly[0]"
   ]
  },
  {
   "cell_type": "code",
   "execution_count": 11,
   "id": "f22b8378-bbf5-4d1f-8856-ff0f31ba9172",
   "metadata": {},
   "outputs": [
    {
     "data": {
      "image/png": "[encoded data removed]",
      "text/plain": [
       "<Figure size 504x504 with 4 Axes>"
      ]
     },
     "metadata": {
      "needs_background": "light"
     },
     "output_type": "display_data"
    }
   ],
   "source": [
    "# draw vars with anomaly\n",
    "fig, axs = plt.subplots(2, 2, figsize = (7, 7))\n",
    "bins = 50\n",
    "_ = axs[0, 0].hist(anomaly[:,0], bins = bins)\n",
    "_ = axs[0, 1].hist(anomaly[:,1], bins = bins)\n",
    "_ = axs[1, 0].hist(anomaly[:,2], bins = bins)\n",
    "_ = axs[1, 1].hist(anomaly[:,3], bins = bins)"
   ]
  },
  {
   "cell_type": "code",
   "execution_count": 12,
   "id": "11901ed1-0d37-4db5-ad98-c8768b41c67a",
   "metadata": {},
   "outputs": [
    {
     "data": {
      "text/plain": [
       "<matplotlib.legend.Legend at 0x7fd71f3ded90>"
      ]
     },
     "execution_count": 12,
     "metadata": {},
     "output_type": "execute_result"
    },
    {
     "data": {
      "image/png": "[encoded data removed]",
      "text/plain": [
       "<Figure size 504x504 with 4 Axes>"
      ]
     },
     "metadata": {
      "needs_background": "light"
     },
     "output_type": "display_data"
    }
   ],
   "source": [
    "# predictions\n",
    "pred_anomaly = model.predict(anomaly)\n",
    "\n",
    "# draw vars\n",
    "nbins = 50\n",
    "fig, axs = plt.subplots(2, 2, figsize = (7, 7))\n",
    "_ = axs[0, 0].hist(anomaly[:,0], bins = nbins, alpha = 0.4, label = \"actual\")\n",
    "_ = axs[0, 0].hist(pred_anomaly[:,0], bins = nbins, alpha = 0.4, label = \"prediction\")\n",
    "axs[0, 0].legend()\n",
    "\n",
    "_ = axs[0, 1].hist(anomaly[:,1], bins = nbins, alpha = 0.4, label = \"actual\")\n",
    "_ = axs[0, 1].hist(pred_anomaly[:,1], bins = nbins, alpha = 0.4, label = \"prediction\")\n",
    "axs[0, 1].legend()\n",
    "\n",
    "_ = axs[1, 0].hist(anomaly[:,2], bins = nbins, alpha = 0.4, label = \"actual\")\n",
    "_ = axs[1, 0].hist(pred_anomaly[:,2], bins = nbins, alpha = 0.4, label = \"prediction\")\n",
    "axs[1, 0].legend()\n",
    "\n",
    "_ = axs[1, 1].hist(anomaly[:,3], bins = nbins, alpha = 0.4, label = \"actual\")\n",
    "_ = axs[1, 1].hist(pred_anomaly[:,3], bins = nbins, alpha = 0.4, label = \"prediction\")\n",
    "axs[1, 1].legend()"
   ]
  },
  {
   "cell_type": "code",
   "execution_count": 13,
   "id": "427711d1-6f74-41c3-920e-02c9c2767627",
   "metadata": {},
   "outputs": [
    {
     "data": {
      "text/plain": [
       "<matplotlib.legend.Legend at 0x7fd71f12dfa0>"
      ]
     },
     "execution_count": 13,
     "metadata": {},
     "output_type": "execute_result"
    },
    {
     "data": {
      "image/png": "[encoded data removed]",
      "text/plain": [
       "<Figure size 504x504 with 4 Axes>"
      ]
     },
     "metadata": {
      "needs_background": "light"
     },
     "output_type": "display_data"
    }
   ],
   "source": [
    "# to compare, draw errors\n",
    "nbins = 50\n",
    "error_pred = np.sqrt((pred - test) ** 2.)\n",
    "error_anomaly = np.sqrt((pred_anomaly - anomaly) ** 2.)\n",
    "fig, axs = plt.subplots(2, 2, figsize = (7, 7))\n",
    "_ = axs[0, 0].hist(error_pred[:,0], bins = nbins, alpha = 0.4, label = \"Actual\")\n",
    "_ = axs[0, 1].hist(error_pred[:,1], bins = nbins, alpha = 0.4, label = \"Actual\")\n",
    "_ = axs[1, 0].hist(error_pred[:,2], bins = nbins, alpha = 0.4, label = \"Actual\")\n",
    "_ = axs[1, 1].hist(error_pred[:,3], bins = nbins, alpha = 0.4, label = \"Actual\")\n",
    "\n",
    "_ = axs[0, 0].hist(error_anomaly[:,0], bins = nbins, alpha = 0.4, label = \"anomaly\")\n",
    "_ = axs[0, 1].hist(error_anomaly[:,1], bins = nbins, alpha = 0.4, label = \"anomaly\")\n",
    "_ = axs[1, 0].hist(error_anomaly[:,2], bins = nbins, alpha = 0.4, label = \"anomaly\")\n",
    "_ = axs[1, 1].hist(error_anomaly[:,3], bins = nbins, alpha = 0.4, label = \"anomaly\")\n",
    "\n",
    "axs[0, 0].legend()\n",
    "axs[0, 1].legend()\n",
    "axs[1, 0].legend()\n",
    "axs[1, 1].legend()"
   ]
  },
  {
   "cell_type": "code",
   "execution_count": 14,
   "id": "4269029e-90c7-4fc7-ba4e-dc20ca9b03c9",
   "metadata": {},
   "outputs": [
    {
     "name": "stdout",
     "output_type": "stream",
     "text": [
      "0.14167781362642912 0.14150014990280138\n",
      "0.205427167563001 0.20537533341681927\n",
      "0.19148265502337855 0.1912239146659758\n",
      "0.7266256655853855 0.7265946939434347\n"
     ]
    }
   ],
   "source": [
    "# difference in means?\n",
    "for i in range(4):\n",
    "    print(error_pred[:,i].mean(), error_anomaly[:,i].mean())"
   ]
  },
  {
   "cell_type": "code",
   "execution_count": null,
   "id": "2325c399-e918-4d10-9865-025018f7ca2a",
   "metadata": {},
   "outputs": [],
   "source": []
  }
 ],
 "metadata": {
  "kernelspec": {
   "display_name": "Python 3 (ipykernel)",
   "language": "python",
   "name": "python3"
  },
  "language_info": {
   "codemirror_mode": {
    "name": "ipython",
    "version": 3
   },
   "file_extension": ".py",
   "mimetype": "text/x-python",
   "name": "python",
   "nbconvert_exporter": "python",
   "pygments_lexer": "ipython3",
   "version": "3.8.10"
  }
 },
 "nbformat": 4,
 "nbformat_minor": 5
}
