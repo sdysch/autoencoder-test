{
 "cells": [
  {
   "cell_type": "code",
   "execution_count": 1,
   "id": "49c3dd27-11a2-4284-a31d-bbb3186a4987",
   "metadata": {},
   "outputs": [],
   "source": [
    "# Import all the stuff we will need\n",
    "import numpy as np\n",
    "from matplotlib import pyplot as plt\n",
    "import pandas as pd\n",
    "from keras.models import Sequential\n",
    "from keras.layers import Dense\n",
    "\n",
    "from numpy.random import seed\n",
    "seed(1)"
   ]
  },
  {
   "cell_type": "code",
   "execution_count": 2,
   "id": "500c94a5-8940-4a2e-8716-efa3c9c2913e",
   "metadata": {},
   "outputs": [],
   "source": [
    "# generate some data, add to df\n",
    "n = 10000\n",
    "\n",
    "var_1 = -1 * np.log(np.random.rand(n))\n",
    "var_2 = -2 * np.log(np.random.rand(n))\n",
    "var_3 = -3 * np.log(np.random.rand(n))\n",
    "var_4 = -4 * np.log(np.random.rand(n))\n",
    "\n",
    "# scale to mean 0, std 1\n",
    "var_1 = ( var_1 - np.mean(var_1) ) / np.std(var_1)\n",
    "var_2 = ( var_2 - np.mean(var_2) ) / np.std(var_2)\n",
    "var_3 = ( var_3 - np.mean(var_3) ) / np.std(var_3)\n",
    "var_4 = ( var_4 - np.mean(var_4) ) / np.std(var_4)\n",
    "\n",
    "data = pd.DataFrame({\"x1\" : var_1,\n",
    "                     \"x2\" : var_2,\n",
    "                     \"x3\" : var_3,\n",
    "                     \"x4\" : var_4\n",
    "                    })\n",
    "#data"
   ]
  },
  {
   "cell_type": "code",
   "execution_count": 3,
   "id": "2917d903-b48e-4326-a8e6-ac1b57810157",
   "metadata": {},
   "outputs": [
    {
     "data": {
      "image/png": "[encoded data removed]",
      "text/plain": [
       "<Figure size 504x504 with 4 Axes>"
      ]
     },
     "metadata": {
      "needs_background": "light"
     },
     "output_type": "display_data"
    }
   ],
   "source": [
    "# draw vars\n",
    "fig, axs = plt.subplots(2, 2, figsize = (7, 7))\n",
    "bins = 50\n",
    "_ = axs[0, 0].hist(data.x1, bins = bins)\n",
    "_ = axs[0, 1].hist(data.x2, bins = bins)\n",
    "_ = axs[1, 0].hist(data.x3, bins = bins)\n",
    "_ = axs[1, 1].hist(data.x4, bins = bins)"
   ]
  },
  {
   "cell_type": "code",
   "execution_count": 4,
   "id": "8ac8e42e-2e2e-4b77-9d84-98d0eaf57913",
   "metadata": {},
   "outputs": [],
   "source": [
    "# split into training and testing data, 70% fraction\n",
    "# will split test into validation during model training\n",
    "split = int(0.7 * len(data))\n",
    "train = data[0:split].values\n",
    "test  = data[split:].values"
   ]
  },
  {
   "cell_type": "code",
   "execution_count": 5,
   "id": "baed8a77-18e0-45e4-8464-cca648ac7df1",
   "metadata": {},
   "outputs": [
    {
     "name": "stderr",
     "output_type": "stream",
     "text": [
      "2021-10-31 22:28:44.201021: I tensorflow/core/platform/cpu_feature_guard.cc:142] This TensorFlow binary is optimized with oneAPI Deep Neural Network Library (oneDNN) to use the following CPU instructions in performance-critical operations:  AVX2 FMA\n",
      "To enable them in other operations, rebuild TensorFlow with the appropriate compiler flags.\n"
     ]
    },
    {
     "name": "stdout",
     "output_type": "stream",
     "text": [
      "Model: \"sequential\"\n",
      "_________________________________________________________________\n",
      "Layer (type)                 Output Shape              Param #   \n",
      "=================================================================\n",
      "dense (Dense)                (None, 4)                 20        \n",
      "_________________________________________________________________\n",
      "dense_1 (Dense)              (None, 3)                 15        \n",
      "_________________________________________________________________\n",
      "dense_2 (Dense)              (None, 2)                 8         \n",
      "_________________________________________________________________\n",
      "dense_3 (Dense)              (None, 3)                 9         \n",
      "_________________________________________________________________\n",
      "dense_4 (Dense)              (None, 4)                 16        \n",
      "=================================================================\n",
      "Total params: 68\n",
      "Trainable params: 68\n",
      "Non-trainable params: 0\n",
      "_________________________________________________________________\n"
     ]
    }
   ],
   "source": [
    "# setup autoencoder, we will use a NN with 4 - 3 - 2 - 3 - 4 to encode and decode our data\n",
    "model = Sequential()\n",
    "model.add(Dense(4, activation='relu', input_shape=(4,)))\n",
    "model.add(Dense(3, activation='relu'))\n",
    "model.add(Dense(2, activation='relu'))\n",
    "model.add(Dense(3, activation='relu'))\n",
    "model.add(Dense(4, activation='linear'))\n",
    "\n",
    "model.summary()\n",
    "\n",
    "learning_rate = 0.001 * 2\n",
    "from tensorflow.keras.optimizers import Adam\n",
    "optimizer = Adam(learning_rate)\n",
    "model.compile(loss=\"mse\", optimizer=optimizer, metrics=[\"mse\"])"
   ]
  },
  {
   "cell_type": "code",
   "execution_count": 6,
   "id": "67ed92fc-2d1f-4b36-9707-2300848b7a70",
   "metadata": {},
   "outputs": [
    {
     "name": "stderr",
     "output_type": "stream",
     "text": [
      "2021-10-31 22:28:44.533037: I tensorflow/compiler/mlir/mlir_graph_optimization_pass.cc:185] None of the MLIR Optimization Passes are enabled (registered 2)\n"
     ]
    },
    {
     "name": "stdout",
     "output_type": "stream",
     "text": [
      "Epoch 1/300\n",
      "490/490 [==============================] - 2s 3ms/step - loss: 0.7906 - mse: 0.7906 - val_loss: 0.5839 - val_mse: 0.5839\n",
      "Epoch 2/300\n",
      "490/490 [==============================] - 0s 969us/step - loss: 0.5493 - mse: 0.5493 - val_loss: 0.5176 - val_mse: 0.5176\n",
      "Epoch 3/300\n",
      "490/490 [==============================] - 0s 977us/step - loss: 0.5219 - mse: 0.5219 - val_loss: 0.5103 - val_mse: 0.5103\n",
      "Epoch 4/300\n",
      "490/490 [==============================] - 0s 862us/step - loss: 0.5164 - mse: 0.5164 - val_loss: 0.5085 - val_mse: 0.5085\n",
      "Epoch 5/300\n",
      "490/490 [==============================] - 1s 1ms/step - loss: 0.5148 - mse: 0.5148 - val_loss: 0.5093 - val_mse: 0.5093\n",
      "Epoch 6/300\n",
      "490/490 [==============================] - 0s 988us/step - loss: 0.5134 - mse: 0.5134 - val_loss: 0.5083 - val_mse: 0.5083\n",
      "Epoch 7/300\n",
      "490/490 [==============================] - 1s 1ms/step - loss: 0.5128 - mse: 0.5128 - val_loss: 0.5092 - val_mse: 0.5092\n",
      "Epoch 8/300\n",
      "490/490 [==============================] - 1s 2ms/step - loss: 0.5123 - mse: 0.5123 - val_loss: 0.5098 - val_mse: 0.5098\n",
      "Epoch 9/300\n",
      "490/490 [==============================] - 1s 1ms/step - loss: 0.5115 - mse: 0.5115 - val_loss: 0.5087 - val_mse: 0.5087\n",
      "Epoch 10/300\n",
      "490/490 [==============================] - 1s 2ms/step - loss: 0.5109 - mse: 0.5109 - val_loss: 0.5085 - val_mse: 0.5085\n",
      "Epoch 11/300\n",
      "490/490 [==============================] - 1s 2ms/step - loss: 0.5113 - mse: 0.5113 - val_loss: 0.5087 - val_mse: 0.5087\n",
      "Epoch 12/300\n",
      "490/490 [==============================] - 1s 1ms/step - loss: 0.5103 - mse: 0.5103 - val_loss: 0.5091 - val_mse: 0.5091\n",
      "Epoch 13/300\n",
      "490/490 [==============================] - 1s 1ms/step - loss: 0.5098 - mse: 0.5098 - val_loss: 0.5093 - val_mse: 0.5093\n",
      "Epoch 14/300\n",
      "490/490 [==============================] - 1s 2ms/step - loss: 0.5094 - mse: 0.5094 - val_loss: 0.5108 - val_mse: 0.5108\n",
      "Epoch 15/300\n",
      "490/490 [==============================] - 1s 1ms/step - loss: 0.5094 - mse: 0.5094 - val_loss: 0.5088 - val_mse: 0.5088\n",
      "Epoch 16/300\n",
      "490/490 [==============================] - 1s 2ms/step - loss: 0.5085 - mse: 0.5085 - val_loss: 0.5110 - val_mse: 0.5110\n",
      "Epoch 00016: early stopping\n"
     ]
    }
   ],
   "source": [
    "epochs = 300\n",
    "\n",
    "from tensorflow.keras.callbacks import EarlyStopping\n",
    "es = EarlyStopping(monitor='val_loss', mode='min', verbose=1, patience=10)\n",
    "history = model.fit(x=train, y=train, batch_size=10, epochs=epochs, validation_split=0.3, callbacks=[es])"
   ]
  },
  {
   "cell_type": "code",
   "execution_count": 7,
   "id": "1b8abe1c-dc2b-4ca0-90c2-909a96994e1e",
   "metadata": {},
   "outputs": [
    {
     "data": {
      "image/png": "[encoded data removed]",
      "text/plain": [
       "<Figure size 432x288 with 1 Axes>"
      ]
     },
     "metadata": {
      "needs_background": "light"
     },
     "output_type": "display_data"
    }
   ],
   "source": [
    "# learning curve\n",
    "plt.plot(history.history['loss'])\n",
    "plt.plot(history.history['val_loss'])\n",
    "plt.title('model loss')\n",
    "plt.ylabel('loss')\n",
    "plt.xlabel('epoch')\n",
    "plt.legend(['train', 'validation'], loc='upper left')\n",
    "#plt.gca().set_yscale(\"log\")\n",
    "plt.show()"
   ]
  },
  {
   "cell_type": "code",
   "execution_count": 8,
   "id": "5c1da5b1-707f-4ec0-8c7f-da8c1aa822c9",
   "metadata": {},
   "outputs": [
    {
     "data": {
      "text/plain": [
       "<matplotlib.legend.Legend at 0x1578f7e80>"
      ]
     },
     "execution_count": 8,
     "metadata": {},
     "output_type": "execute_result"
    },
    {
     "data": {
      "image/png": "[encoded data removed]",
      "text/plain": [
       "<Figure size 504x504 with 4 Axes>"
      ]
     },
     "metadata": {
      "needs_background": "light"
     },
     "output_type": "display_data"
    }
   ],
   "source": [
    "# predictions\n",
    "pred = model.predict(test)\n",
    "\n",
    "# draw vars\n",
    "nbins = 50\n",
    "fig, axs = plt.subplots(2, 2, figsize = (7, 7))\n",
    "_ = axs[0, 0].hist(test[:,0], bins = nbins, alpha = 0.4, label = \"actual\")\n",
    "_ = axs[0, 0].hist(pred[:,0], bins = nbins, alpha = 0.4, label = \"prediction\")\n",
    "axs[0, 0].legend()\n",
    "\n",
    "_ = axs[0, 1].hist(test[:,1], bins = nbins, alpha = 0.4, label = \"actual\")\n",
    "_ = axs[0, 1].hist(pred[:,1], bins = nbins, alpha = 0.4, label = \"prediction\")\n",
    "axs[0, 1].legend()\n",
    "\n",
    "_ = axs[1, 0].hist(test[:,2], bins = nbins, alpha = 0.4, label = \"actual\")\n",
    "_ = axs[1, 0].hist(pred[:,2], bins = nbins, alpha = 0.4, label = \"prediction\")\n",
    "axs[1, 0].legend()\n",
    "\n",
    "_ = axs[1, 1].hist(test[:,3], bins = nbins, alpha = 0.4, label = \"actual\")\n",
    "_ = axs[1, 1].hist(pred[:,3], bins = nbins, alpha = 0.4, label = \"prediction\")\n",
    "axs[1, 1].legend()"
   ]
  },
  {
   "cell_type": "code",
   "execution_count": null,
   "id": "d68eb761-3e31-4ae2-baf3-f788afd71172",
   "metadata": {},
   "outputs": [],
   "source": []
  }
 ],
 "metadata": {
  "kernelspec": {
   "display_name": "Python 3 (ipykernel)",
   "language": "python",
   "name": "python3"
  },
  "language_info": {
   "codemirror_mode": {
    "name": "ipython",
    "version": 3
   },
   "file_extension": ".py",
   "mimetype": "text/x-python",
   "name": "python",
   "nbconvert_exporter": "python",
   "pygments_lexer": "ipython3",
   "version": "3.9.6"
  }
 },
 "nbformat": 4,
 "nbformat_minor": 5
}
