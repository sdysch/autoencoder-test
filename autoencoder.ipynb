{
 "cells": [
  {
   "cell_type": "code",
   "execution_count": 1,
   "id": "49c3dd27-11a2-4284-a31d-bbb3186a4987",
   "metadata": {},
   "outputs": [],
   "source": [
    "# Import all the stuff we will need\n",
    "import numpy as np\n",
    "from matplotlib import pyplot as plt\n",
    "import pandas as pd\n",
    "from keras.models import Sequential\n",
    "from keras.layers import Dense\n",
    "\n",
    "from numpy.random import seed\n",
    "seed(1)"
   ]
  },
  {
   "cell_type": "code",
   "execution_count": 19,
   "id": "500c94a5-8940-4a2e-8716-efa3c9c2913e",
   "metadata": {},
   "outputs": [],
   "source": [
    "# generate some data, add to df\n",
    "n = 10000\n",
    "\n",
    "var_1 = np.random.normal(1, 4, n)\n",
    "var_2 = np.random.wald(1, 4, n)\n",
    "var_3 = np.log(np.random.rand(n))\n",
    "var_4 = -1 * np.log(np.random.rand(n))\n",
    "\n",
    "data = pd.DataFrame({\"x1\" : var_1,\n",
    "                     \"x2\" : var_2,\n",
    "                     \"x3\" : var_3,\n",
    "                     \"x4\" : var_4\n",
    "                    })\n",
    "#data"
   ]
  },
  {
   "cell_type": "code",
   "execution_count": 20,
   "id": "2917d903-b48e-4326-a8e6-ac1b57810157",
   "metadata": {},
   "outputs": [
    {
     "data": {
      "image/png": "[encoded data removed]",
      "text/plain": [
       "<Figure size 504x504 with 4 Axes>"
      ]
     },
     "metadata": {
      "needs_background": "light"
     },
     "output_type": "display_data"
    }
   ],
   "source": [
    "# draw vars\n",
    "fig, axs = plt.subplots(2, 2, figsize = (7, 7))\n",
    "bins = 50\n",
    "_ = axs[0, 0].hist(data.x1, bins = bins)\n",
    "_ = axs[0, 1].hist(data.x2, bins = bins)\n",
    "_ = axs[1, 0].hist(data.x3, bins = bins)\n",
    "_ = axs[1, 1].hist(data.x4, bins = bins)"
   ]
  },
  {
   "cell_type": "code",
   "execution_count": 21,
   "id": "8ac8e42e-2e2e-4b77-9d84-98d0eaf57913",
   "metadata": {},
   "outputs": [],
   "source": [
    "# split into training and testing data, 70% fraction\n",
    "# will split test into validation during model training\n",
    "split = int(0.7 * len(data))\n",
    "train = data[0:split].values\n",
    "test  = data[split:].values"
   ]
  },
  {
   "cell_type": "code",
   "execution_count": 22,
   "id": "baed8a77-18e0-45e4-8464-cca648ac7df1",
   "metadata": {},
   "outputs": [
    {
     "name": "stderr",
     "output_type": "stream",
     "text": [
      "2021-10-31 17:53:24.335901: I tensorflow/core/platform/cpu_feature_guard.cc:142] This TensorFlow binary is optimized with oneAPI Deep Neural Network Library (oneDNN) to use the following CPU instructions in performance-critical operations:  AVX2 FMA\n",
      "To enable them in other operations, rebuild TensorFlow with the appropriate compiler flags.\n"
     ]
    },
    {
     "name": "stdout",
     "output_type": "stream",
     "text": [
      "Model: \"sequential\"\n",
      "_________________________________________________________________\n",
      "Layer (type)                 Output Shape              Param #   \n",
      "=================================================================\n",
      "dense (Dense)                (None, 4)                 20        \n",
      "_________________________________________________________________\n",
      "dense_1 (Dense)              (None, 3)                 15        \n",
      "_________________________________________________________________\n",
      "dense_2 (Dense)              (None, 2)                 8         \n",
      "_________________________________________________________________\n",
      "dense_3 (Dense)              (None, 3)                 9         \n",
      "_________________________________________________________________\n",
      "dense_4 (Dense)              (None, 4)                 16        \n",
      "=================================================================\n",
      "Total params: 68\n",
      "Trainable params: 68\n",
      "Non-trainable params: 0\n",
      "_________________________________________________________________\n"
     ]
    }
   ],
   "source": [
    "# setup autoencoder, we will use a NN with 4 - 3 - 2 - 3 - 4 to encode and decode our data\n",
    "model = Sequential()\n",
    "model.add(Dense(4, activation='relu', input_shape=(4,)))\n",
    "model.add(Dense(3, activation='relu'))\n",
    "model.add(Dense(2, activation='relu'))\n",
    "model.add(Dense(3, activation='relu'))\n",
    "model.add(Dense(4, activation='linear'))\n",
    "\n",
    "model.summary()\n",
    "\n",
    "learning_rate = 0.001 * 2\n",
    "from tensorflow.keras.optimizers import Adam\n",
    "optimizer = Adam(learning_rate)\n",
    "model.compile(loss=\"mse\", optimizer=optimizer, metrics=[\"mse\"])"
   ]
  },
  {
   "cell_type": "code",
   "execution_count": 23,
   "id": "67ed92fc-2d1f-4b36-9707-2300848b7a70",
   "metadata": {},
   "outputs": [
    {
     "name": "stderr",
     "output_type": "stream",
     "text": [
      "2021-10-31 17:53:40.593700: I tensorflow/compiler/mlir/mlir_graph_optimization_pass.cc:185] None of the MLIR Optimization Passes are enabled (registered 2)\n"
     ]
    },
    {
     "name": "stdout",
     "output_type": "stream",
     "text": [
      "Epoch 1/300\n",
      "490/490 [==============================] - 1s 1ms/step - loss: 5.1383 - mse: 5.1383 - val_loss: 4.7377 - val_mse: 4.7377\n",
      "Epoch 2/300\n",
      "490/490 [==============================] - 0s 945us/step - loss: 4.7403 - mse: 4.7403 - val_loss: 4.6220 - val_mse: 4.6220\n",
      "Epoch 3/300\n",
      "490/490 [==============================] - 0s 957us/step - loss: 4.5909 - mse: 4.5909 - val_loss: 3.2675 - val_mse: 3.2675\n",
      "Epoch 4/300\n",
      "490/490 [==============================] - 0s 952us/step - loss: 2.3944 - mse: 2.3944 - val_loss: 1.9625 - val_mse: 1.9625\n",
      "Epoch 5/300\n",
      "490/490 [==============================] - 1s 1ms/step - loss: 1.7942 - mse: 1.7942 - val_loss: 1.5050 - val_mse: 1.5050\n",
      "Epoch 6/300\n",
      "490/490 [==============================] - 0s 962us/step - loss: 1.3637 - mse: 1.3637 - val_loss: 1.1445 - val_mse: 1.1445\n",
      "Epoch 7/300\n",
      "490/490 [==============================] - 0s 963us/step - loss: 1.0869 - mse: 1.0869 - val_loss: 0.9371 - val_mse: 0.9371\n",
      "Epoch 8/300\n",
      "490/490 [==============================] - 0s 955us/step - loss: 0.9035 - mse: 0.9035 - val_loss: 0.7854 - val_mse: 0.7854\n",
      "Epoch 9/300\n",
      "490/490 [==============================] - 0s 974us/step - loss: 0.7705 - mse: 0.7705 - val_loss: 0.6766 - val_mse: 0.6766\n",
      "Epoch 10/300\n",
      "490/490 [==============================] - 0s 962us/step - loss: 0.6691 - mse: 0.6691 - val_loss: 0.5973 - val_mse: 0.5973\n",
      "Epoch 11/300\n",
      "490/490 [==============================] - 0s 951us/step - loss: 0.5919 - mse: 0.5919 - val_loss: 0.5386 - val_mse: 0.5386\n",
      "Epoch 12/300\n",
      "490/490 [==============================] - 0s 963us/step - loss: 0.5321 - mse: 0.5321 - val_loss: 0.4918 - val_mse: 0.4918\n",
      "Epoch 13/300\n",
      "490/490 [==============================] - 0s 1ms/step - loss: 0.4855 - mse: 0.4855 - val_loss: 0.4537 - val_mse: 0.4537\n",
      "Epoch 14/300\n",
      "490/490 [==============================] - 0s 913us/step - loss: 0.4498 - mse: 0.4498 - val_loss: 0.4270 - val_mse: 0.4270\n",
      "Epoch 15/300\n",
      "490/490 [==============================] - 0s 982us/step - loss: 0.4218 - mse: 0.4218 - val_loss: 0.4093 - val_mse: 0.4093\n",
      "Epoch 16/300\n",
      "490/490 [==============================] - 1s 1ms/step - loss: 0.4008 - mse: 0.4008 - val_loss: 0.3970 - val_mse: 0.3970\n",
      "Epoch 17/300\n",
      "490/490 [==============================] - 0s 973us/step - loss: 0.3843 - mse: 0.3843 - val_loss: 0.3768 - val_mse: 0.3768\n",
      "Epoch 18/300\n",
      "490/490 [==============================] - 1s 1ms/step - loss: 0.3719 - mse: 0.3719 - val_loss: 0.3671 - val_mse: 0.3671\n",
      "Epoch 19/300\n",
      "490/490 [==============================] - 0s 967us/step - loss: 0.3612 - mse: 0.3612 - val_loss: 0.3588 - val_mse: 0.3588\n",
      "Epoch 20/300\n",
      "490/490 [==============================] - 0s 934us/step - loss: 0.3524 - mse: 0.3524 - val_loss: 0.3526 - val_mse: 0.3526\n",
      "Epoch 21/300\n",
      "490/490 [==============================] - 1s 1ms/step - loss: 0.3460 - mse: 0.3460 - val_loss: 0.3478 - val_mse: 0.3478\n",
      "Epoch 22/300\n",
      "490/490 [==============================] - 1s 1ms/step - loss: 0.3408 - mse: 0.3408 - val_loss: 0.3447 - val_mse: 0.3447\n",
      "Epoch 23/300\n",
      "490/490 [==============================] - 0s 965us/step - loss: 0.3365 - mse: 0.3365 - val_loss: 0.3385 - val_mse: 0.3385\n",
      "Epoch 24/300\n",
      "490/490 [==============================] - 0s 920us/step - loss: 0.3329 - mse: 0.3329 - val_loss: 0.3405 - val_mse: 0.3405\n",
      "Epoch 25/300\n",
      "490/490 [==============================] - 0s 992us/step - loss: 0.3295 - mse: 0.3295 - val_loss: 0.3331 - val_mse: 0.3331\n",
      "Epoch 26/300\n",
      "490/490 [==============================] - 0s 913us/step - loss: 0.3281 - mse: 0.3281 - val_loss: 0.3330 - val_mse: 0.3330\n",
      "Epoch 27/300\n",
      "490/490 [==============================] - 1s 1ms/step - loss: 0.3259 - mse: 0.3259 - val_loss: 0.3314 - val_mse: 0.3314\n",
      "Epoch 28/300\n",
      "490/490 [==============================] - 0s 975us/step - loss: 0.3250 - mse: 0.3250 - val_loss: 0.3296 - val_mse: 0.3296\n",
      "Epoch 29/300\n",
      "490/490 [==============================] - 0s 955us/step - loss: 0.3238 - mse: 0.3238 - val_loss: 0.3295 - val_mse: 0.3295\n",
      "Epoch 30/300\n",
      "490/490 [==============================] - 1s 1ms/step - loss: 0.3219 - mse: 0.3219 - val_loss: 0.3254 - val_mse: 0.3254\n",
      "Epoch 31/300\n",
      "490/490 [==============================] - 0s 973us/step - loss: 0.3211 - mse: 0.3211 - val_loss: 0.3251 - val_mse: 0.3251\n",
      "Epoch 32/300\n",
      "490/490 [==============================] - 1s 1ms/step - loss: 0.3202 - mse: 0.3202 - val_loss: 0.3313 - val_mse: 0.3313\n",
      "Epoch 33/300\n",
      "490/490 [==============================] - 0s 978us/step - loss: 0.3193 - mse: 0.3193 - val_loss: 0.3228 - val_mse: 0.3228\n",
      "Epoch 34/300\n",
      "490/490 [==============================] - 0s 938us/step - loss: 0.3188 - mse: 0.3188 - val_loss: 0.3221 - val_mse: 0.3221\n",
      "Epoch 35/300\n",
      "490/490 [==============================] - 0s 965us/step - loss: 0.3194 - mse: 0.3194 - val_loss: 0.3228 - val_mse: 0.3228\n",
      "Epoch 36/300\n",
      "490/490 [==============================] - 0s 926us/step - loss: 0.3180 - mse: 0.3180 - val_loss: 0.3224 - val_mse: 0.3224\n",
      "Epoch 37/300\n",
      "490/490 [==============================] - 0s 973us/step - loss: 0.3179 - mse: 0.3179 - val_loss: 0.3241 - val_mse: 0.3241\n",
      "Epoch 38/300\n",
      "490/490 [==============================] - 0s 946us/step - loss: 0.3167 - mse: 0.3167 - val_loss: 0.3221 - val_mse: 0.3221\n",
      "Epoch 39/300\n",
      "490/490 [==============================] - 1s 1ms/step - loss: 0.3176 - mse: 0.3176 - val_loss: 0.3210 - val_mse: 0.3210\n",
      "Epoch 40/300\n",
      "490/490 [==============================] - 1s 1ms/step - loss: 0.3165 - mse: 0.3165 - val_loss: 0.3203 - val_mse: 0.3203\n",
      "Epoch 41/300\n",
      "490/490 [==============================] - 1s 1ms/step - loss: 0.3167 - mse: 0.3167 - val_loss: 0.3192 - val_mse: 0.3192\n",
      "Epoch 42/300\n",
      "490/490 [==============================] - 0s 963us/step - loss: 0.3164 - mse: 0.3164 - val_loss: 0.3199 - val_mse: 0.3199\n",
      "Epoch 43/300\n",
      "490/490 [==============================] - 0s 964us/step - loss: 0.3182 - mse: 0.3182 - val_loss: 0.3205 - val_mse: 0.3205\n",
      "Epoch 44/300\n",
      "490/490 [==============================] - 0s 943us/step - loss: 0.3151 - mse: 0.3151 - val_loss: 0.3199 - val_mse: 0.3199\n",
      "Epoch 45/300\n",
      "490/490 [==============================] - 0s 978us/step - loss: 0.3154 - mse: 0.3154 - val_loss: 0.3196 - val_mse: 0.3196\n",
      "Epoch 46/300\n",
      "490/490 [==============================] - 0s 952us/step - loss: 0.3155 - mse: 0.3155 - val_loss: 0.3185 - val_mse: 0.3185\n",
      "Epoch 47/300\n",
      "490/490 [==============================] - 1s 1ms/step - loss: 0.3150 - mse: 0.3150 - val_loss: 0.3200 - val_mse: 0.3200\n",
      "Epoch 48/300\n",
      "490/490 [==============================] - 0s 957us/step - loss: 0.3153 - mse: 0.3153 - val_loss: 0.3199 - val_mse: 0.3199\n",
      "Epoch 49/300\n",
      "490/490 [==============================] - 0s 961us/step - loss: 0.3149 - mse: 0.3149 - val_loss: 0.3183 - val_mse: 0.3183\n",
      "Epoch 50/300\n",
      "490/490 [==============================] - 0s 960us/step - loss: 0.3142 - mse: 0.3142 - val_loss: 0.3185 - val_mse: 0.3185\n",
      "Epoch 51/300\n",
      "490/490 [==============================] - 0s 931us/step - loss: 0.3143 - mse: 0.3143 - val_loss: 0.3194 - val_mse: 0.3194\n",
      "Epoch 52/300\n",
      "490/490 [==============================] - 0s 983us/step - loss: 0.3144 - mse: 0.3144 - val_loss: 0.3178 - val_mse: 0.3178\n",
      "Epoch 53/300\n",
      "490/490 [==============================] - 1s 1ms/step - loss: 0.3146 - mse: 0.3146 - val_loss: 0.3211 - val_mse: 0.3211\n",
      "Epoch 54/300\n",
      "490/490 [==============================] - 1s 1ms/step - loss: 0.3146 - mse: 0.3146 - val_loss: 0.3181 - val_mse: 0.3181\n",
      "Epoch 55/300\n",
      "490/490 [==============================] - 1s 1ms/step - loss: 0.3138 - mse: 0.3138 - val_loss: 0.3175 - val_mse: 0.3175\n",
      "Epoch 56/300\n",
      "490/490 [==============================] - 1s 1ms/step - loss: 0.3144 - mse: 0.3144 - val_loss: 0.3185 - val_mse: 0.3185\n",
      "Epoch 57/300\n",
      "490/490 [==============================] - 1s 1ms/step - loss: 0.3139 - mse: 0.3139 - val_loss: 0.3202 - val_mse: 0.3202\n",
      "Epoch 58/300\n",
      "490/490 [==============================] - 0s 997us/step - loss: 0.3140 - mse: 0.3140 - val_loss: 0.3180 - val_mse: 0.3180\n",
      "Epoch 59/300\n",
      "490/490 [==============================] - 0s 953us/step - loss: 0.3136 - mse: 0.3136 - val_loss: 0.3175 - val_mse: 0.3175\n",
      "Epoch 60/300\n",
      "490/490 [==============================] - 0s 953us/step - loss: 0.3134 - mse: 0.3134 - val_loss: 0.3178 - val_mse: 0.3178\n",
      "Epoch 61/300\n",
      "490/490 [==============================] - 0s 968us/step - loss: 0.3131 - mse: 0.3131 - val_loss: 0.3173 - val_mse: 0.3173\n",
      "Epoch 62/300\n",
      "490/490 [==============================] - 0s 971us/step - loss: 0.3129 - mse: 0.3129 - val_loss: 0.3238 - val_mse: 0.3238\n",
      "Epoch 63/300\n",
      "490/490 [==============================] - 0s 946us/step - loss: 0.3134 - mse: 0.3134 - val_loss: 0.3179 - val_mse: 0.3179\n",
      "Epoch 64/300\n",
      "490/490 [==============================] - 0s 942us/step - loss: 0.3132 - mse: 0.3132 - val_loss: 0.3186 - val_mse: 0.3186\n",
      "Epoch 65/300\n",
      "490/490 [==============================] - 0s 960us/step - loss: 0.3129 - mse: 0.3129 - val_loss: 0.3183 - val_mse: 0.3183\n",
      "Epoch 66/300\n",
      "490/490 [==============================] - 0s 980us/step - loss: 0.3128 - mse: 0.3128 - val_loss: 0.3178 - val_mse: 0.3178\n",
      "Epoch 67/300\n",
      "490/490 [==============================] - 0s 959us/step - loss: 0.3127 - mse: 0.3127 - val_loss: 0.3172 - val_mse: 0.3172\n",
      "Epoch 68/300\n",
      "490/490 [==============================] - 0s 966us/step - loss: 0.3128 - mse: 0.3128 - val_loss: 0.3175 - val_mse: 0.3175\n",
      "Epoch 69/300\n",
      "490/490 [==============================] - 1s 1ms/step - loss: 0.3130 - mse: 0.3130 - val_loss: 0.3171 - val_mse: 0.3171\n",
      "Epoch 70/300\n",
      "490/490 [==============================] - 0s 948us/step - loss: 0.3127 - mse: 0.3127 - val_loss: 0.3184 - val_mse: 0.3184\n",
      "Epoch 71/300\n",
      "490/490 [==============================] - 1s 1ms/step - loss: 0.3123 - mse: 0.3123 - val_loss: 0.3179 - val_mse: 0.3179\n",
      "Epoch 72/300\n",
      "490/490 [==============================] - 1s 1ms/step - loss: 0.3133 - mse: 0.3133 - val_loss: 0.3186 - val_mse: 0.3186\n",
      "Epoch 73/300\n",
      "490/490 [==============================] - 0s 965us/step - loss: 0.3126 - mse: 0.3126 - val_loss: 0.3176 - val_mse: 0.3176\n",
      "Epoch 74/300\n",
      "490/490 [==============================] - 0s 947us/step - loss: 0.3123 - mse: 0.3123 - val_loss: 0.3190 - val_mse: 0.3190\n",
      "Epoch 75/300\n",
      "490/490 [==============================] - 1s 1ms/step - loss: 0.3123 - mse: 0.3123 - val_loss: 0.3180 - val_mse: 0.3180\n",
      "Epoch 76/300\n",
      "490/490 [==============================] - 0s 976us/step - loss: 0.3131 - mse: 0.3131 - val_loss: 0.3198 - val_mse: 0.3198\n",
      "Epoch 77/300\n",
      "490/490 [==============================] - 0s 951us/step - loss: 0.3119 - mse: 0.3119 - val_loss: 0.3174 - val_mse: 0.3174\n",
      "Epoch 78/300\n",
      "490/490 [==============================] - 0s 955us/step - loss: 0.3122 - mse: 0.3122 - val_loss: 0.3174 - val_mse: 0.3174\n",
      "Epoch 79/300\n",
      "490/490 [==============================] - 0s 949us/step - loss: 0.3118 - mse: 0.3118 - val_loss: 0.3172 - val_mse: 0.3172\n",
      "Epoch 00079: early stopping\n"
     ]
    }
   ],
   "source": [
    "epochs = 300\n",
    "\n",
    "from tensorflow.keras.callbacks import EarlyStopping\n",
    "es = EarlyStopping(monitor='val_loss', mode='min', verbose=1, patience=10)\n",
    "history = model.fit(x=train, y=train, batch_size=10, epochs=epochs, validation_split=0.3, callbacks=[es])"
   ]
  },
  {
   "cell_type": "code",
   "execution_count": 24,
   "id": "1b8abe1c-dc2b-4ca0-90c2-909a96994e1e",
   "metadata": {},
   "outputs": [
    {
     "data": {
      "image/png": "[encoded data removed]",
      "text/plain": [
       "<Figure size 432x288 with 1 Axes>"
      ]
     },
     "metadata": {
      "needs_background": "light"
     },
     "output_type": "display_data"
    }
   ],
   "source": [
    "# learning curve\n",
    "plt.plot(history.history['loss'])\n",
    "plt.plot(history.history['val_loss'])\n",
    "plt.title('model loss')\n",
    "plt.ylabel('loss')\n",
    "plt.xlabel('epoch')\n",
    "plt.legend(['train', 'validation'], loc='upper left')\n",
    "plt.gca().set_yscale(\"log\")\n",
    "plt.show()"
   ]
  },
  {
   "cell_type": "code",
   "execution_count": 43,
   "id": "5c1da5b1-707f-4ec0-8c7f-da8c1aa822c9",
   "metadata": {},
   "outputs": [
    {
     "data": {
      "text/plain": [
       "<matplotlib.legend.Legend at 0x1537eda00>"
      ]
     },
     "execution_count": 43,
     "metadata": {},
     "output_type": "execute_result"
    },
    {
     "data": {
      "image/png": "[encoded data removed]",
      "text/plain": [
       "<Figure size 504x504 with 4 Axes>"
      ]
     },
     "metadata": {
      "needs_background": "light"
     },
     "output_type": "display_data"
    }
   ],
   "source": [
    "# predictions\n",
    "pred = model.predict(test)\n",
    "\n",
    "# draw vars\n",
    "nbins = 50\n",
    "fig, axs = plt.subplots(2, 2, figsize = (7, 7))\n",
    "_ = axs[0, 0].hist(test[:,0], bins = nbins, alpha = 0.4, label = \"actual\")\n",
    "_ = axs[0, 0].hist(pred[:,0], bins = nbins, alpha = 0.4, label = \"prediction\")\n",
    "axs[0, 0].legend()\n",
    "\n",
    "_ = axs[0, 1].hist(test[:,1], bins = nbins, alpha = 0.4, label = \"actual\")\n",
    "_ = axs[0, 1].hist(pred[:,1], bins = nbins, alpha = 0.4, label = \"prediction\")\n",
    "axs[0, 1].legend()\n",
    "\n",
    "_ = axs[1, 0].hist(test[:,2], bins = nbins, alpha = 0.4, label = \"actual\")\n",
    "_ = axs[1, 0].hist(pred[:,2], bins = nbins, alpha = 0.4, label = \"prediction\")\n",
    "axs[1, 0].legend()\n",
    "\n",
    "_ = axs[1, 1].hist(test[:,3], bins = nbins, alpha = 0.4, label = \"actual\")\n",
    "_ = axs[1, 1].hist(pred[:,3], bins = nbins, alpha = 0.4, label = \"prediction\")\n",
    "axs[1, 1].legend()"
   ]
  },
  {
   "cell_type": "code",
   "execution_count": null,
   "id": "d68eb761-3e31-4ae2-baf3-f788afd71172",
   "metadata": {},
   "outputs": [],
   "source": []
  }
 ],
 "metadata": {
  "kernelspec": {
   "display_name": "Python 3 (ipykernel)",
   "language": "python",
   "name": "python3"
  },
  "language_info": {
   "codemirror_mode": {
    "name": "ipython",
    "version": 3
   },
   "file_extension": ".py",
   "mimetype": "text/x-python",
   "name": "python",
   "nbconvert_exporter": "python",
   "pygments_lexer": "ipython3",
   "version": "3.9.6"
  }
 },
 "nbformat": 4,
 "nbformat_minor": 5
}
